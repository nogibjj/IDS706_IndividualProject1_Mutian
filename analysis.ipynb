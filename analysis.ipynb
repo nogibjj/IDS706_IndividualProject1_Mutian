{
 "cells": [
  {
   "cell_type": "code",
   "execution_count": 11,
   "metadata": {},
   "outputs": [],
   "source": [
    "from lib import * "
   ]
  },
  {
   "cell_type": "markdown",
   "metadata": {},
   "source": [
    "# Descriptive statistics with pandas"
   ]
  },
  {
   "cell_type": "code",
   "execution_count": 12,
   "metadata": {},
   "outputs": [],
   "source": [
    "# load data and describe data\n",
    "path = \"./World University Rankings 2023.csv\"\n",
    "data = loadData(path)\n",
    "# print Nan information and Descriptive statistics\n",
    "naninfo = nanInfo(data)\n",
    "db =  describeData(data)\n"
   ]
  },
  {
   "cell_type": "markdown",
   "metadata": {},
   "source": [
    "## check null datapoint"
   ]
  },
  {
   "cell_type": "code",
   "execution_count": 13,
   "metadata": {},
   "outputs": [
    {
     "data": {
      "text/plain": [
       "University Rank                  0\n",
       "Name of University             108\n",
       "Location                       294\n",
       "No of student                  132\n",
       "No of student per staff        133\n",
       "International Student          132\n",
       "Female:Male Ratio              213\n",
       "OverAll Score                  542\n",
       "Teaching Score                 542\n",
       "Research Score                 542\n",
       "Citations Score                542\n",
       "Industry Income Score          542\n",
       "International Outlook Score    542\n",
       "dtype: int64"
      ]
     },
     "execution_count": 13,
     "metadata": {},
     "output_type": "execute_result"
    }
   ],
   "source": [
    "naninfo"
   ]
  },
  {
   "cell_type": "code",
   "execution_count": null,
   "metadata": {},
   "outputs": [],
   "source": [
    "assert naninfo.shape[0] == 13"
   ]
  },
  {
   "cell_type": "code",
   "execution_count": 14,
   "metadata": {},
   "outputs": [
    {
     "data": {
      "text/html": [
       "<div>\n",
       "<style scoped>\n",
       "    .dataframe tbody tr th:only-of-type {\n",
       "        vertical-align: middle;\n",
       "    }\n",
       "\n",
       "    .dataframe tbody tr th {\n",
       "        vertical-align: top;\n",
       "    }\n",
       "\n",
       "    .dataframe thead th {\n",
       "        text-align: right;\n",
       "    }\n",
       "</style>\n",
       "<table border=\"1\" class=\"dataframe\">\n",
       "  <thead>\n",
       "    <tr style=\"text-align: right;\">\n",
       "      <th></th>\n",
       "      <th>count</th>\n",
       "      <th>mean</th>\n",
       "      <th>std</th>\n",
       "      <th>min</th>\n",
       "      <th>25%</th>\n",
       "      <th>50%</th>\n",
       "      <th>75%</th>\n",
       "      <th>max</th>\n",
       "    </tr>\n",
       "  </thead>\n",
       "  <tbody>\n",
       "    <tr>\n",
       "      <th>No of student per staff</th>\n",
       "      <td>2208.0</td>\n",
       "      <td>19.000408</td>\n",
       "      <td>12.132224</td>\n",
       "      <td>0.4</td>\n",
       "      <td>12.6</td>\n",
       "      <td>16.6</td>\n",
       "      <td>22.20</td>\n",
       "      <td>232.2</td>\n",
       "    </tr>\n",
       "    <tr>\n",
       "      <th>Teaching Score</th>\n",
       "      <td>1799.0</td>\n",
       "      <td>27.018010</td>\n",
       "      <td>13.282243</td>\n",
       "      <td>11.6</td>\n",
       "      <td>18.0</td>\n",
       "      <td>22.7</td>\n",
       "      <td>31.85</td>\n",
       "      <td>94.8</td>\n",
       "    </tr>\n",
       "    <tr>\n",
       "      <th>Research Score</th>\n",
       "      <td>1799.0</td>\n",
       "      <td>23.016898</td>\n",
       "      <td>16.763819</td>\n",
       "      <td>7.4</td>\n",
       "      <td>11.3</td>\n",
       "      <td>17.0</td>\n",
       "      <td>28.90</td>\n",
       "      <td>99.7</td>\n",
       "    </tr>\n",
       "    <tr>\n",
       "      <th>Citations Score</th>\n",
       "      <td>1799.0</td>\n",
       "      <td>48.495887</td>\n",
       "      <td>27.967185</td>\n",
       "      <td>0.8</td>\n",
       "      <td>23.1</td>\n",
       "      <td>47.2</td>\n",
       "      <td>72.35</td>\n",
       "      <td>100.0</td>\n",
       "    </tr>\n",
       "    <tr>\n",
       "      <th>Industry Income Score</th>\n",
       "      <td>1799.0</td>\n",
       "      <td>47.104558</td>\n",
       "      <td>15.093682</td>\n",
       "      <td>36.9</td>\n",
       "      <td>37.8</td>\n",
       "      <td>40.5</td>\n",
       "      <td>48.30</td>\n",
       "      <td>100.0</td>\n",
       "    </tr>\n",
       "    <tr>\n",
       "      <th>International Outlook Score</th>\n",
       "      <td>1799.0</td>\n",
       "      <td>46.880378</td>\n",
       "      <td>22.582401</td>\n",
       "      <td>14.1</td>\n",
       "      <td>27.9</td>\n",
       "      <td>42.1</td>\n",
       "      <td>62.10</td>\n",
       "      <td>99.7</td>\n",
       "    </tr>\n",
       "  </tbody>\n",
       "</table>\n",
       "</div>"
      ],
      "text/plain": [
       "                              count       mean        std   min   25%   50%  \\\n",
       "No of student per staff      2208.0  19.000408  12.132224   0.4  12.6  16.6   \n",
       "Teaching Score               1799.0  27.018010  13.282243  11.6  18.0  22.7   \n",
       "Research Score               1799.0  23.016898  16.763819   7.4  11.3  17.0   \n",
       "Citations Score              1799.0  48.495887  27.967185   0.8  23.1  47.2   \n",
       "Industry Income Score        1799.0  47.104558  15.093682  36.9  37.8  40.5   \n",
       "International Outlook Score  1799.0  46.880378  22.582401  14.1  27.9  42.1   \n",
       "\n",
       "                               75%    max  \n",
       "No of student per staff      22.20  232.2  \n",
       "Teaching Score               31.85   94.8  \n",
       "Research Score               28.90   99.7  \n",
       "Citations Score              72.35  100.0  \n",
       "Industry Income Score        48.30  100.0  \n",
       "International Outlook Score  62.10   99.7  "
      ]
     },
     "execution_count": 14,
     "metadata": {},
     "output_type": "execute_result"
    }
   ],
   "source": [
    "db"
   ]
  },
  {
   "cell_type": "code",
   "execution_count": null,
   "metadata": {},
   "outputs": [],
   "source": [
    "\n",
    "for sta in [\"count\", \"mean\", \"std\", \"max\", \"50%\", \"min\"]:\n",
    "    assert sta in db.columns"
   ]
  }
 ],
 "metadata": {
  "kernelspec": {
   "display_name": "env",
   "language": "python",
   "name": "python3"
  },
  "language_info": {
   "codemirror_mode": {
    "name": "ipython",
    "version": 3
   },
   "file_extension": ".py",
   "mimetype": "text/x-python",
   "name": "python",
   "nbconvert_exporter": "python",
   "pygments_lexer": "ipython3",
   "version": "3.11.5"
  },
  "orig_nbformat": 4
 },
 "nbformat": 4,
 "nbformat_minor": 2
}
